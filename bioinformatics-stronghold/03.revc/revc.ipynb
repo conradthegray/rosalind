{
 "cells": [
  {
   "cell_type": "markdown",
   "metadata": {},
   "source": [
    "# [Complementing a Strand of DNA](http://rosalind.info/problems/revc/)\n",
    "\n",
    "**Problem**\n",
    "\n",
    "In DNA strings, symbols 'A' and 'T' are complements of each other, as are 'C' and 'G'.\n",
    "\n",
    "The reverse complement of a DNA string s is the string sc formed by reversing the symbols of s, then taking the complement of each symbol (e.g., the reverse complement of \"GTCA\" is \"TGAC\").\n",
    "\n",
    "Given: A DNA string s of length at most 1000 bp.\n",
    "\n",
    "Return: The reverse complement sc of s.\n",
    "\n",
    "**Sample Dataset***\n",
    "```\n",
    "AAAACCCGGT\n",
    "```\n",
    "\n",
    "**Sample Output**\n",
    "```\n",
    "ACCGGGTTTT\n",
    "```"
   ]
  },
  {
   "cell_type": "code",
   "execution_count": null,
   "metadata": {},
   "outputs": [],
   "source": [
    "def complement(sequence):\n",
    "    pairing = {\n",
    "        'A': 'T',\n",
    "        'C': 'G',\n",
    "        'T': 'A',\n",
    "        'G': 'C'\n",
    "    }\n",
    "    \n",
    "    result = ''\n",
    "    \n",
    "    for symbol in sequence[::-1]:\n",
    "        result += pairing[symbol]\n",
    "        \n",
    "    return result"
   ]
  },
  {
   "cell_type": "code",
   "execution_count": null,
   "metadata": {},
   "outputs": [],
   "source": [
    "file = open('./dataset.txt', 'r')\n",
    "sequence = file.read().strip()\n",
    "complement(sequence)"
   ]
  }
 ],
 "metadata": {
  "kernelspec": {
   "display_name": "Python 3",
   "language": "python",
   "name": "python3"
  },
  "language_info": {
   "codemirror_mode": {
    "name": "ipython",
    "version": 3
   },
   "file_extension": ".py",
   "mimetype": "text/x-python",
   "name": "python",
   "nbconvert_exporter": "python",
   "pygments_lexer": "ipython3",
   "version": "3.7.7"
  }
 },
 "nbformat": 4,
 "nbformat_minor": 4
}
