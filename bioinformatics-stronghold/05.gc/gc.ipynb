{
 "cells": [
  {
   "cell_type": "markdown",
   "metadata": {},
   "source": [
    "# [Identifying Unknown DNA Quickly](http://rosalind.info/problems/gc/)\n",
    "\n",
    "**Problem**\n",
    "The GC-content of a DNA string is given by the percentage of symbols in the string that are 'C' or 'G'. For example, the GC-content of \"AGCTATAG\" is 37.5%. Note that the reverse complement of any DNA string has the same GC-content.\n",
    "\n",
    "DNA strings must be labeled when they are consolidated into a database. A commonly used method of string labeling is called FASTA format. In this format, the string is introduced by a line that begins with '>', followed by some labeling information. Subsequent lines contain the string itself; the first line to begin with '>' indicates the label of the next string.\n",
    "\n",
    "In Rosalind's implementation, a string in FASTA format will be labeled by the ID \"Rosalind_xxxx\", where \"xxxx\" denotes a four-digit code between 0000 and 9999.\n",
    "\n",
    "Given: At most 10 DNA strings in FASTA format (of length at most 1 kbp each).\n",
    "\n",
    "Return: The ID of the string having the highest GC-content, followed by the GC-content of that string. Rosalind allows for a default error of 0.001 in all decimal answers unless otherwise stated; please see the note on absolute error below.\n",
    "\n",
    "**Sample Dataset**\n",
    "```\n",
    ">Rosalind_6404\n",
    "CCTGCGGAAGATCGGCACTAGAATAGCCAGAACCGTTTCTCTGAGGCTTCCGGCCTTCCC\n",
    "TCCCACTAATAATTCTGAGG\n",
    ">Rosalind_5959\n",
    "CCATCGGTAGCGCATCCTTAGTCCAATTAAGTCCCTATCCAGGCGCTCCGCCGAAGGTCT\n",
    "ATATCCATTTGTCAGCAGACACGC\n",
    ">Rosalind_0808\n",
    "CCACCCTCGTGGTATGGCTAGGCATTCAGGAACCGGAGAACGCTTCAGACCAGCCCGGAC\n",
    "TGGGAACCTGCGGGCAGTAGGTGGAAT\n",
    "```\n",
    "\n",
    "**Sample Output**\n",
    "```\n",
    "Rosalind_0808\n",
    "60.919540\n",
    "```"
   ]
  },
  {
   "cell_type": "code",
   "execution_count": null,
   "metadata": {},
   "outputs": [],
   "source": [
    "def parse(data):\n",
    "    dna_strings = {}\n",
    "    name = ''\n",
    "    \n",
    "    for line in data.split('\\n'):\n",
    "        if line[0] == '>':\n",
    "            name = line\n",
    "            dna_strings[name] = ''\n",
    "        else:\n",
    "            dna_strings[name] += line\n",
    "    \n",
    "    return dna_strings"
   ]
  },
  {
   "cell_type": "code",
   "execution_count": null,
   "metadata": {},
   "outputs": [],
   "source": [
    "def get_gc_content(dna_string):\n",
    "    gc_count = 0\n",
    "\n",
    "    for letter in dna_string:\n",
    "        if letter == 'G' or letter == 'C':\n",
    "            gc_count += 1\n",
    "\n",
    "    return gc_count * 100/ len(dna_string)"
   ]
  },
  {
   "cell_type": "code",
   "execution_count": null,
   "metadata": {},
   "outputs": [],
   "source": [
    "file = open('./dataset.txt', 'r')\n",
    "data = file.read().strip()\n",
    "\n",
    "dna_strings = parse(data)\n",
    "highest_gc_content_name = ''\n",
    "highest_gc_content_value = 0\n",
    "\n",
    "for name, dna_string in dna_strings.items():\n",
    "    gc_content = get_gc_content(dna_string)\n",
    "    \n",
    "    if highest_gc_content_value < gc_content:\n",
    "        highest_gc_content_value = gc_content\n",
    "        highest_gc_content_name = name\n",
    "        \n",
    "print(highest_gc_content_name)\n",
    "print(highest_gc_content_value)\n",
    "\n",
    "print(f'{highest_gc_content_name[1:]} {highest_gc_content_value}%')"
   ]
  }
 ],
 "metadata": {
  "kernelspec": {
   "display_name": "Python 3",
   "language": "python",
   "name": "python3"
  },
  "language_info": {
   "codemirror_mode": {
    "name": "ipython",
    "version": 3
   },
   "file_extension": ".py",
   "mimetype": "text/x-python",
   "name": "python",
   "nbconvert_exporter": "python",
   "pygments_lexer": "ipython3",
   "version": "3.7.7"
  }
 },
 "nbformat": 4,
 "nbformat_minor": 4
}
