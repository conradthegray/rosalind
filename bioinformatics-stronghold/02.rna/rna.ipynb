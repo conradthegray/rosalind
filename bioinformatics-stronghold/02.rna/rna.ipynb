{
 "cells": [
  {
   "cell_type": "markdown",
   "metadata": {},
   "source": [
    "# [Transcribing DNA into RNA](http://rosalind.info/problems/rna/)\n",
    "\n",
    "**Problem**\n",
    "\n",
    "An RNA string is a string formed from the alphabet containing 'A', 'C', 'G', and 'U'.\n",
    "\n",
    "Given a DNA string t corresponding to a coding strand, its transcribed RNA string u is formed by replacing all occurrences of 'T' in t with 'U' in u.\n",
    "\n",
    "Given: A DNA string t having length at most 1000 nt.\n",
    "\n",
    "Return: The transcribed RNA string of t.\n",
    "\n",
    "**Sample dataset**\n",
    "```\n",
    "GATGGAACTTGACTACGTAAATT\n",
    "```\n",
    "\n",
    "**Sample output**\n",
    "```\n",
    "GAUGGAACUUGACUACGUAAAUU\n",
    "```"
   ]
  },
  {
   "cell_type": "code",
   "execution_count": null,
   "metadata": {},
   "outputs": [],
   "source": [
    "def transcribe_to_rna(sequence):\n",
    "    result = ''\n",
    "    \n",
    "    for n in sequence:\n",
    "        if n == 'T':\n",
    "            result += 'U'\n",
    "        else:\n",
    "            result += n\n",
    "            \n",
    "    return result"
   ]
  },
  {
   "cell_type": "code",
   "execution_count": null,
   "metadata": {},
   "outputs": [],
   "source": [
    "file = open('./dataset.txt', 'r')\n",
    "sequence = file.read().strip()\n",
    "\n",
    "transcribe_to_rna(sequence)"
   ]
  }
 ],
 "metadata": {
  "kernelspec": {
   "display_name": "Python 3",
   "language": "python",
   "name": "python3"
  },
  "language_info": {
   "codemirror_mode": {
    "name": "ipython",
    "version": 3
   },
   "file_extension": ".py",
   "mimetype": "text/x-python",
   "name": "python",
   "nbconvert_exporter": "python",
   "pygments_lexer": "ipython3",
   "version": "3.7.7"
  }
 },
 "nbformat": 4,
 "nbformat_minor": 4
}
